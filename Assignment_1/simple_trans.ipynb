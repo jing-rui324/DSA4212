{
  "nbformat": 4,
  "nbformat_minor": 0,
  "metadata": {
    "colab": {
      "provenance": []
    },
    "kernelspec": {
      "name": "python3",
      "display_name": "Python 3"
    },
    "language_info": {
      "name": "python"
    }
  },
  "cells": [
    {
      "cell_type": "code",
      "execution_count": 1,
      "metadata": {
        "id": "CW1_0sOJY1SQ"
      },
      "outputs": [],
      "source": [
        "import torch\n",
        "import torch.nn as nn\n",
        "import torch.optim as optim\n",
        "import numpy as np\n",
        "import math"
      ]
    },
    {
      "cell_type": "markdown",
      "source": [
        "Transformer architecture"
      ],
      "metadata": {
        "id": "SPf53jZBZFTZ"
      }
    },
    {
      "cell_type": "code",
      "source": [
        "class ScaledDotProductAttention(nn.Module):\n",
        "    def forward(self, Q, K, V, mask=None):\n",
        "        d_k = Q.size(-1)\n",
        "        attn_scores = torch.matmul(Q, K.transpose(-2, -1)) / math.sqrt(d_k)\n",
        "        if mask is not None:\n",
        "            attn_scores = attn_scores.masked_fill(mask == 0, -1e9)\n",
        "        attn = torch.softmax(attn_scores, dim=-1)\n",
        "        return torch.matmul(attn, V)\n",
        "\n",
        "class MultiHeadAttention(nn.Module):\n",
        "    def __init__(self, embed_size, num_heads):\n",
        "        super(MultiHeadAttention, self).__init__()\n",
        "        assert embed_size % num_heads == 0\n",
        "        self.num_heads = num_heads\n",
        "        self.head_dim = embed_size // num_heads\n",
        "\n",
        "        self.q_linear = nn.Linear(embed_size, embed_size)\n",
        "        self.k_linear = nn.Linear(embed_size, embed_size)\n",
        "        self.v_linear = nn.Linear(embed_size, embed_size)\n",
        "        self.fc_out = nn.Linear(embed_size, embed_size)\n",
        "        self.attention = ScaledDotProductAttention()\n",
        "\n",
        "    def split_heads(self, x):\n",
        "        batch_size, seq_length, embed_size = x.size()\n",
        "        return x.view(batch_size, seq_length, self.num_heads, self.head_dim).transpose(1, 2)\n",
        "\n",
        "    def combine_heads(self, x):\n",
        "        batch_size, _, _, _ = x.size()\n",
        "        return x.transpose(1, 2).contiguous().view(batch_size, -1, self.num_heads * self.head_dim)\n",
        "\n",
        "    def forward(self, Q, K, V, mask=None):\n",
        "        Q = self.split_heads(self.q_linear(Q))\n",
        "        K = self.split_heads(self.k_linear(K))\n",
        "        V = self.split_heads(self.v_linear(V))\n",
        "\n",
        "        out = self.attention(Q, K, V, mask)\n",
        "        out = self.combine_heads(out)\n",
        "\n",
        "        return self.fc_out(out)\n",
        "\n",
        "class FeedForward(nn.Module):\n",
        "    def __init__(self, embed_size, hidden_dim):\n",
        "        super(FeedForward, self).__init__()\n",
        "        self.fc1 = nn.Linear(embed_size, hidden_dim)\n",
        "        self.fc2 = nn.Linear(hidden_dim, embed_size)\n",
        "\n",
        "    def forward(self, x):\n",
        "        return self.fc2(torch.relu(self.fc1(x)))\n",
        "\n",
        "class PositionalEncoding(nn.Module):\n",
        "    def __init__(self, embed_size, max_len=100):\n",
        "        super(PositionalEncoding, self).__init__()\n",
        "\n",
        "        pe = torch.zeros(max_len, embed_size)\n",
        "        position = torch.arange(0, max_len, dtype=torch.float).unsqueeze(1)\n",
        "        div_term = torch.exp(torch.arange(0, embed_size, 2).float() * -(math.log(10000.0) / embed_size))\n",
        "\n",
        "        pe[:, 0::2] = torch.sin(position * div_term)\n",
        "        pe[:, 1::2] = torch.cos(position * div_term)\n",
        "\n",
        "        self.register_buffer('pe', pe.unsqueeze(0))\n",
        "\n",
        "    def forward(self, x):\n",
        "        return x + self.pe[:, :x.size(1)].to(x.device)\n",
        "\n",
        "class EncoderLayer(nn.Module):\n",
        "    def __init__(self, embed_size, num_heads, hidden_dim):\n",
        "        super(EncoderLayer, self).__init__()\n",
        "        self.self_attn = MultiHeadAttention(embed_size, num_heads)\n",
        "        self.norm1 = nn.LayerNorm(embed_size)\n",
        "        self.norm2 = nn.LayerNorm(embed_size)\n",
        "        self.ff = FeedForward(embed_size, hidden_dim)\n",
        "\n",
        "    def forward(self, x, mask=None):\n",
        "        attn_output = self.self_attn(x, x, x, mask)\n",
        "        x = self.norm1(x + attn_output)\n",
        "        ff_output = self.ff(x)\n",
        "        return self.norm2(x + ff_output)\n",
        "\n",
        "class TransformerModel(nn.Module):\n",
        "    def __init__(self, vocab_size, embed_size, num_heads, hidden_dim, num_layers, seq_len):\n",
        "        super(TransformerModel, self).__init__()\n",
        "        self.embedding = nn.Embedding(vocab_size, embed_size)\n",
        "        self.positional_encoding = PositionalEncoding(embed_size, seq_len)\n",
        "        self.encoder_layers = nn.ModuleList(\n",
        "            [EncoderLayer(embed_size, num_heads, hidden_dim) for _ in range(num_layers)]\n",
        "        )\n",
        "        self.fc_out = nn.Linear(embed_size, vocab_size)\n",
        "\n",
        "    def forward(self, x):\n",
        "        x = self.embedding(x)\n",
        "        x = self.positional_encoding(x)\n",
        "        for layer in self.encoder_layers:\n",
        "            x = layer(x)\n",
        "        return self.fc_out(x)\n"
      ],
      "metadata": {
        "id": "OBZze9SVY5RJ"
      },
      "execution_count": 2,
      "outputs": []
    },
    {
      "cell_type": "markdown",
      "source": [
        "Train model"
      ],
      "metadata": {
        "id": "OIIri0aqZChx"
      }
    },
    {
      "cell_type": "code",
      "source": [
        "seq_len = 6\n",
        "vocab_size = 10\n",
        "embed_size = 16\n",
        "num_heads = 8\n",
        "num_layers = 8\n",
        "hidden_dim = 32\n",
        "num_epochs = 1000\n",
        "learning_rate = 0.001\n",
        "\n",
        "model = TransformerModel(vocab_size, embed_size, num_heads, hidden_dim, num_layers, seq_len)\n",
        "criterion = nn.CrossEntropyLoss()\n",
        "optimizer = optim.Adam(model.parameters(), lr=learning_rate)\n",
        "\n",
        "def generate_data(batch_size=64):\n",
        "    x = np.random.randint(1, vocab_size, (batch_size, seq_len))\n",
        "    y = np.flip(x, axis=1).copy()\n",
        "    return torch.LongTensor(x), torch.LongTensor(y)\n",
        "\n",
        "for epoch in range(num_epochs):\n",
        "    model.train()\n",
        "    x_train, y_train = generate_data()\n",
        "    optimizer.zero_grad()\n",
        "    output = model(x_train)\n",
        "    loss = criterion(output.view(-1, vocab_size), y_train.view(-1))\n",
        "    loss.backward()\n",
        "    optimizer.step()"
      ],
      "metadata": {
        "id": "jOoFmgZ8ZAbh"
      },
      "execution_count": 3,
      "outputs": []
    },
    {
      "cell_type": "markdown",
      "source": [
        "Testing"
      ],
      "metadata": {
        "id": "HtfBCfzbZIga"
      }
    },
    {
      "cell_type": "code",
      "source": [
        "model.eval()\n",
        "test_input = torch.LongTensor([[1, 3, 2, 4, 5, 3]])\n",
        "with torch.no_grad():\n",
        "    output = model(test_input)\n",
        "    predicted_seq = torch.argmax(output, dim=-1).squeeze().tolist()\n",
        "print(\"Input:\", [1, 3, 2, 4, 5, 3])\n",
        "print(\"Reversed:\", predicted_seq)"
      ],
      "metadata": {
        "colab": {
          "base_uri": "https://localhost:8080/"
        },
        "id": "xDLDJBzrZKRo",
        "outputId": "555242b2-10f0-4559-f265-c343249823b9"
      },
      "execution_count": 4,
      "outputs": [
        {
          "output_type": "stream",
          "name": "stdout",
          "text": [
            "Input: [1, 3, 2, 4, 5, 3]\n",
            "Reversed: [3, 5, 4, 2, 3, 1]\n"
          ]
        }
      ]
    }
  ]
}
